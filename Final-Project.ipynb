{
 "cells": [
  {
   "cell_type": "markdown",
   "metadata": {},
   "source": [
    "<center> \n",
    "     <img src=\"https://cf-courses-data.s3.us.cloud-object-storage.appdomain.cloud/assets/logos/SN_web_lightmode.png\" width=\"300\"> \n",
    "</center>\n",
    "\n",
    "# Assignment: Notebook for Peer Assignment\n",
    "Estimated time needed: 45 minutes\n"
   ]
  },
  {
   "cell_type": "markdown",
   "metadata": {},
   "source": [
    "# Assignment Scenario\n",
    "\n",
    "Congratulations! You have just been hired by a US Venture Capital firm as a data analyst.\n",
    "\n",
    "The company is considering foreign grain markets to help meet its supply chain requirements for its recent investments in the microbrewery and microdistillery industry, which is involved with the production and distribution of craft beers and spirits.\n",
    "\n",
    "Your first task is to provide a high level analysis of crop production in Canada. Your stakeholders want to understand the current and historical performance of certain crop types in terms of supply and price volatility. For now they are mainly interested in a macro-view of Canada's crop farming industry, and how it relates to the relative value of the Canadian and US dollars.\n"
   ]
  },
  {
   "cell_type": "markdown",
   "metadata": {},
   "source": [
    "# Introduction\n",
    "\n",
    "Using this R notebook you will:\n",
    "\n",
    "1.  Understand four datasets \n",
    "2.  Load the datasets into four separate tables in a Db2 database\n",
    "3.  Execute SQL queries unsing the RODBC R package to answer assignment questions \n",
    "\n",
    "You have already encountered two of these datasets in the previous practice lab. You will be able to reuse much of the work you did there to prepare your database tables for executing SQL queries.\n"
   ]
  },
  {
   "cell_type": "markdown",
   "metadata": {},
   "source": [
    "# Understand the datasets\n",
    "\n",
    "To complete the assignment problems in this notebook you will be using subsetted snapshots of two datasets from Statistics Canada, and one from the Bank of Canada. The links to the prepared datasets are provided in the next section; the interested student can explore the landing pages for the source datasets as follows:\n",
    "\n",
    "1.  <a href=\"https://www150.statcan.gc.ca/t1/tbl1/en/tv.action?utm_medium=Exinfluencer&utm_source=Exinfluencer&utm_content=000026UJ&utm_term=10006555&utm_id=NA-SkillsNetwork-Channel-SkillsNetworkCoursesIBMRP0203ENSkillsNetwork890-2022-01-01&pid=3210035901\">Canadian Principal Crops (Data & Metadata)</a>\n",
    "2.  <a href=\"https://www150.statcan.gc.ca/t1/tbl1/en/tv.action?utm_medium=Exinfluencer&utm_source=Exinfluencer&utm_content=000026UJ&utm_term=10006555&utm_id=NA-SkillsNetwork-Channel-SkillsNetworkCoursesIBMRP0203ENSkillsNetwork890-2022-01-01&pid=3210007701\">Farm product prices (Data & Metadata)</a>\n",
    "3.  <a href=\"https://www.bankofcanada.ca/rates/exchange/daily-exchange-rates?utm_medium=Exinfluencer&utm_source=Exinfluencer&utm_content=000026UJ&utm_term=10006555&utm_id=NA-SkillsNetwork-Channel-SkillsNetworkCoursesIBMRP0203ENSkillsNetwork890-2022-01-01\">Bank of Canada daily average exchange rates</a>\n",
    "\n",
    "\n",
    "### 1. Canadian Principal Crops Data *\n",
    "\n",
    "This dataset contains agricultural production measures for the principle crops grown in Canada, including a breakdown by province and teritory, for each year from 1908 to 2020.\n",
    "\n",
    "For this assignment you will use a preprocessed snapshot of this dataset (see below).\n",
    "\n",
    "A detailed description of this dataset can be obtained from the StatsCan Data Portal at:\n",
    "https://www150.statcan.gc.ca/t1/tbl1/en/tv.action?pid=3210035901  \n",
    "Detailed information is included in the metadata file and as header text in the data file, which can be downloaded - look for the 'download options' link.  \n",
    "\n",
    "### 2. Farm product prices\n",
    "\n",
    "This dataset contains monthly average farm product prices for Canadian crops and livestock by province and teritory, from 1980 to 2020 (or 'last year', whichever is greatest).\n",
    "\n",
    "For this assignment you will use a preprocessed snapshot of this dataset (see below).\n",
    "\n",
    "A description of this dataset can be obtained from the StatsCan Data Portal at:\n",
    "https://www150.statcan.gc.ca/t1/tbl1/en/tv.action?pid=3210007701 \n",
    "The information is included in the metadata file, which can be downloaded - look for the 'download options' link.  \n",
    "\n",
    "### 3. Bank of Canada daily average exchange rates *\n",
    "\n",
    "This dataset contains the daily average exchange rates for multiple foreign currencies. Exchange rates are expressed as 1 unit of the foreign currency converted into Canadian dollars. It includes only the latest four years of data, and the rates are published once each business day by 16:30 ET.\n",
    "\n",
    "For this assignment you will use a snapshot of this dataset with only the USD-CAD exchange rates included (see next section). We have also prepared a monthly averaged version which you will be using below.\n",
    "\n",
    "A brief description of this dataset and the original dataset can be obtained from the Bank of Canada Data Portal at:\n",
    "https://www.bankofcanada.ca/rates/exchange/daily-exchange-rates/\n",
    "\n",
    "( * these datasets are the same as the ones you used in the practice lab)\n"
   ]
  },
  {
   "cell_type": "markdown",
   "metadata": {},
   "source": [
    "### Dataset URLs\n",
    "\n",
    "  1.  Annual Crop Data: https://cf-courses-data.s3.us.cloud-object-storage.appdomain.cloud/IBM-RP0203EN-SkillsNetwork/labs/Final%20Project/Annual_Crop_Data.csv \n",
    "\n",
    "  2.  Farm product prices: https://cf-courses-data.s3.us.cloud-object-storage.appdomain.cloud/IBM-RP0203EN-SkillsNetwork/labs/Final%20Project/Monthly_Farm_Prices.csv\n",
    "  \n",
    "  3.  Daily FX Data: https://cf-courses-data.s3.us.cloud-object-storage.appdomain.cloud/IBM-RP0203EN-SkillsNetwork/labs/Final%20Project/Daily_FX.csv\n",
    "  \n",
    "  4.  Monthly FX Data: https://cf-courses-data.s3.us.cloud-object-storage.appdomain.cloud/IBM-RP0203EN-SkillsNetwork/labs/Final%20Project/Monthly_FX.csv\n",
    "  \n",
    "\n",
    "<span style=\"color:red\">**IMPORTANT:**</span> You will be loading these datasets directly into R data frames from these URLs instead of from the StatsCan and Bank of Canada portals. The versions provided at these URLs are simplified and subsetted versions of the original datasets.\n"
   ]
  },
  {
   "cell_type": "markdown",
   "metadata": {},
   "source": [
    "#### Now let's load these datasets into four separate Db2 tables.\n",
    "Let's first load the RODBC package:\n"
   ]
  },
  {
   "cell_type": "code",
   "execution_count": null,
   "metadata": {},
   "outputs": [],
   "source": [
    "library(RODBC)"
   ]
  },
  {
   "cell_type": "markdown",
   "metadata": {
    "tags": []
   },
   "source": [
    "## Problem 1\n",
    "#### Create tables\n",
    "Establish a connection to the Db2 database, and create the following four tables using the RODBC package in R. \n",
    "Use the separate cells provided below to create each of your tables.\n",
    "\n",
    "1.  **CROP_DATA**\n",
    "2.  **FARM_PRICES**\n",
    "3.  **DAILY_FX**\n",
    "4.  **MONTHLY_FX**  \n",
    "\n",
    "The previous practice lab will help you accomplish this.\n"
   ]
  },
  {
   "cell_type": "markdown",
   "metadata": {
    "tags": []
   },
   "source": [
    "### Solution 1\n"
   ]
  },
  {
   "cell_type": "code",
   "execution_count": 3,
   "metadata": {},
   "outputs": [
    {
     "data": {
      "text/html": [
       "'DB2'"
      ],
      "text/latex": [
       "'DB2'"
      ],
      "text/markdown": [
       "'DB2'"
      ],
      "text/plain": [
       "[1] \"DB2\""
      ]
     },
     "metadata": {},
     "output_type": "display_data"
    },
    {
     "data": {
      "text/html": [
       "<strong>DBMS_Name:</strong> 'DB2/LINUXX8664'"
      ],
      "text/latex": [
       "\\textbf{DBMS\\textbackslash{}\\_Name:} 'DB2/LINUXX8664'"
      ],
      "text/markdown": [
       "**DBMS_Name:** 'DB2/LINUXX8664'"
      ],
      "text/plain": [
       "       DBMS_Name \n",
       "\"DB2/LINUXX8664\" "
      ]
     },
     "metadata": {},
     "output_type": "display_data"
    },
    {
     "data": {
      "text/html": [
       "<strong>DBMS_Ver:</strong> '11.05.0800'"
      ],
      "text/latex": [
       "\\textbf{DBMS\\textbackslash{}\\_Ver:} '11.05.0800'"
      ],
      "text/markdown": [
       "**DBMS_Ver:** '11.05.0800'"
      ],
      "text/plain": [
       "    DBMS_Ver \n",
       "\"11.05.0800\" "
      ]
     },
     "metadata": {},
     "output_type": "display_data"
    },
    {
     "data": {
      "text/html": [
       "<strong>Driver_ODBC_Ver:</strong> '03.51'"
      ],
      "text/latex": [
       "\\textbf{Driver\\textbackslash{}\\_ODBC\\textbackslash{}\\_Ver:} '03.51'"
      ],
      "text/markdown": [
       "**Driver_ODBC_Ver:** '03.51'"
      ],
      "text/plain": [
       "Driver_ODBC_Ver \n",
       "        \"03.51\" "
      ]
     },
     "metadata": {},
     "output_type": "display_data"
    }
   ],
   "source": [
    "# Establish database connection\n",
    "library(RODBC);\n",
    "dsns <-  odbcDataSources()\n",
    "names(dsns)\n",
    "library(DBI);\n",
    "dsn_driver <- \"{IBM DB2 ODBC Driver}\"\n",
    "dsn_database <- \"bludb\"           \n",
    "dsn_hostname <- \"b70af05b-76e4-4bca-a1f5-23dbb4c6a74e.c1ogj3sd0tgtu0lqde00.databases.appdomain.cloud\"\n",
    "dsn_port <- \"32716\"   \n",
    "dsn_protocol <- \"TCPIP\"            \n",
    "dsn_uid <- \"cth13016\"        \n",
    "dsn_pwd <- \"KRJw2BSvczfvXgCf\"      \n",
    "dsn_security <- \"ssl\"\n",
    "\n",
    "conn_path <- paste(\"DRIVER=\",dsn_driver,\n",
    "                   \";DATABASE=\",dsn_database,\n",
    "                   \";HOSTNAME=\",dsn_hostname,\n",
    "                   \";PORT=\",dsn_port,\n",
    "                   \";PROTOCOL=\",dsn_protocol,\n",
    "                   \";UID=\",dsn_uid,\n",
    "                   \";PWD=\",dsn_pwd,\n",
    "                   \";SECURITY=\",dsn_security,        \n",
    "                   sep=\"\")\n",
    "db_connection <- odbcDriverConnect(conn_path, believeNRows=FALSE)\n",
    "# Dump connection info\n",
    "    ##############################################################\n",
    "    sql.info <- sqlTypeInfo(db_connection)\n",
    "    conn.info <- odbcGetInfo(db_connection)\n",
    "    conn.info[\"DBMS_Name\"]\n",
    "    conn.info[\"DBMS_Ver\"]\n",
    "    conn.info[\"Driver_ODBC_Ver\"]"
   ]
  },
  {
   "cell_type": "code",
   "execution_count": 7,
   "metadata": {
    "tags": []
   },
   "outputs": [
    {
     "name": "stdout",
     "output_type": "stream",
     "text": [
      "Table:  CROP_DATA  was dropped\n",
      "Table:  FARM_PRICES  does not exist\n",
      "Table:  DAILY_FX  does not exist\n",
      "Table:  MONTHLY_FX  does not exist\n"
     ]
    }
   ],
   "source": [
    "tables <- c(\"CROP_DATA\", \"FARM_PRICES\", \"DAILY_FX\", \"MONTHLY_FX\") \n",
    "\n",
    "    for (table in tables) {\n",
    "        # Drop tables if they already exist\n",
    "        out <- sqlTables(db_connection, tableType = \"TABLE\",\n",
    "                          tableName = table)\n",
    "        if (nrow(out)>0) {\n",
    "            err <- sqlDrop(db_connection, table,\n",
    "                            errors=FALSE)  \n",
    "            if (err==-1) {\n",
    "                cat(\"An error has occurred.\\n\")\n",
    "                err.msg <- odbcGetErrMsg(conn)\n",
    "                for (error in err.msg) { \n",
    "                    cat(error,\"\\n\")\n",
    "                }\n",
    "            } \n",
    "            else {\n",
    "                cat (\"Table: \",table,\" was dropped\\n\")\n",
    "            }\n",
    "        }\n",
    "        else {\n",
    "              cat (\"Table: \", table,\" does not exist\\n\")\n",
    "        }\n",
    "    }"
   ]
  },
  {
   "cell_type": "code",
   "execution_count": 8,
   "metadata": {
    "tags": []
   },
   "outputs": [
    {
     "name": "stdout",
     "output_type": "stream",
     "text": [
      "Table was created successfully.\n"
     ]
    }
   ],
   "source": [
    "# CROP_DATA:\n",
    "df1 <- sqlQuery(db_connection, \n",
    "                \"CREATE TABLE CROP_DATA (\n",
    "                                      CD_ID INTEGER NOT NULL,\n",
    "                                      YEAR DATE NOT NULL,\n",
    "                                      CROP_TYPE VARCHAR(20) NOT NULL,\n",
    "                                      GEO VARCHAR(20) NOT NULL, \n",
    "                                      SEEDED_AREA INTEGER NOT NULL,\n",
    "                                      HARVESTED_AREA INTEGER NOT NULL,\n",
    "                                      PRODUCTION INTEGER NOT NULL,\n",
    "                                      AVG_YIELD INTEGER NOT NULL,\n",
    "                                      PRIMARY KEY (CD_ID)\n",
    "                                      )\", \n",
    "                errors=FALSE\n",
    ")\n",
    "\n",
    "if (df1 == -1){\n",
    "  cat (\"An error has occurred.\\n\")\n",
    "  msg <- odbcGetErrMsg(db_connection)\n",
    "  print (msg)\n",
    "} else {\n",
    "  cat (\"Table was created successfully.\\n\")\n",
    "}"
   ]
  },
  {
   "cell_type": "code",
   "execution_count": 11,
   "metadata": {},
   "outputs": [
    {
     "name": "stdout",
     "output_type": "stream",
     "text": [
      "Table was created successfully.\n"
     ]
    }
   ],
   "source": [
    "# FARM_PRICES:\n",
    "df2 <- sqlQuery(db_connection, \n",
    "                \"CREATE TABLE FARM_PRICES (\n",
    "                                        CD_ID INT NOT NULL,\n",
    "                                        DATE DATE NOT NULL,\n",
    "                                        CROP_TYPE VARCHAR(20) NOT NULL,\n",
    "                                        GEO VARCHAR(20) NOT NULL, \n",
    "                                        PRICE_PERMIT INT NOT NULL,\n",
    "                                        PRIMARY KEY (CD_ID)\n",
    "                                        )\",\n",
    "                errors=FALSE\n",
    ")\n",
    "\n",
    "if (df1 == -1){\n",
    "  cat (\"An error has occurred.\\n\")\n",
    "  msg <- odbcGetErrMsg(db_connection)\n",
    "  print (msg)\n",
    "} else {\n",
    "  cat (\"Table was created successfully.\\n\")\n",
    "}"
   ]
  },
  {
   "cell_type": "code",
   "execution_count": 10,
   "metadata": {},
   "outputs": [
    {
     "name": "stdout",
     "output_type": "stream",
     "text": [
      "Table was created successfully.\n"
     ]
    }
   ],
   "source": [
    "# DAILY_FX:\n",
    "df3 <- sqlQuery(db_connection, \n",
    "                \"CREATE TABLE DAILY_FX (\n",
    "                                        DFX_ID INT NOT NULL,\n",
    "                                        DATE DATE NOT NULL,\n",
    "                                        FXUSDCAD INT NOT NULL,\n",
    "                                        PRIMARY KEY (DFX_ID)\n",
    "                                        )\",\n",
    "                errors=FALSE\n",
    ")\n",
    "\n",
    "if (df1 == -1){\n",
    "  cat (\"An error has occurred.\\n\")\n",
    "  msg <- odbcGetErrMsg(db_connection)\n",
    "  print (msg)\n",
    "} else {\n",
    "  cat (\"Table was created successfully.\\n\")\n",
    "}"
   ]
  },
  {
   "cell_type": "code",
   "execution_count": 12,
   "metadata": {},
   "outputs": [
    {
     "name": "stdout",
     "output_type": "stream",
     "text": [
      "Table was created successfully.\n"
     ]
    }
   ],
   "source": [
    "# MONTHLY_FX:\n",
    "df4 <- sqlQuery(db_connection, \n",
    "                \"CREATE TABLE MONTHLY_FX (\n",
    "                                        DFX_ID INT NOT NULL,\n",
    "                                        DATE DATE NOT NULL,\n",
    "                                        FXUSDCAD INT NOT NULL,\n",
    "                                        PRIMARY KEY (DFX_ID)\n",
    "                                        )\",\n",
    "                errors=FALSE\n",
    ")\n",
    "\n",
    "if (df1 == -1){\n",
    "  cat (\"An error has occurred.\\n\")\n",
    "  msg <- odbcGetErrMsg(db_connection)\n",
    "  print (msg)\n",
    "} else {\n",
    "  cat (\"Table was created successfully.\\n\")\n",
    "}"
   ]
  },
  {
   "cell_type": "markdown",
   "metadata": {
    "tags": []
   },
   "source": [
    "## Problem 2\n",
    "#### Read Datasets and Load Tables\n",
    "Read the datasets into R dataframes using the urls provided above. Then load your tables.\n"
   ]
  },
  {
   "cell_type": "code",
   "execution_count": 14,
   "metadata": {},
   "outputs": [],
   "source": [
    "# Read the Annual Crop Data \n",
    "crop_data_df <- read.csv(\"https://cf-courses-data.s3.us.cloud-object-storage.appdomain.cloud/IBM-RP0203EN-SkillsNetwork/labs/Final%20Project/Annual_Crop_Data.csv\", colClasses = c(GEO = \"character\"))"
   ]
  },
  {
   "cell_type": "code",
   "execution_count": 16,
   "metadata": {},
   "outputs": [],
   "source": [
    "# Read the Farm Product Prices \n",
    "farm_prices_df <- read.csv(\"https://cf-courses-data.s3.us.cloud-object-storage.appdomain.cloud/IBM-RP0203EN-SkillsNetwork/labs/Final%20Project/Monthly_Farm_Prices.csv\", colClasses = c(DATE = \"character\"))"
   ]
  },
  {
   "cell_type": "code",
   "execution_count": 17,
   "metadata": {},
   "outputs": [],
   "source": [
    "# Read the Daily FX Data \n",
    "daily_fx_df <- read.csv(\"https://cf-courses-data.s3.us.cloud-object-storage.appdomain.cloud/IBM-RP0203EN-SkillsNetwork/labs/Final%20Project/Daily_FX.csv\", colClasses = c(DATE = \"character\"))"
   ]
  },
  {
   "cell_type": "code",
   "execution_count": 18,
   "metadata": {},
   "outputs": [],
   "source": [
    "# Read the Monthly FX Data \n",
    "monthly_fx_df <- read.csv(\"https://cf-courses-data.s3.us.cloud-object-storage.appdomain.cloud/IBM-RP0203EN-SkillsNetwork/labs/Final%20Project/Monthly_FX.csv\", colClasses = c(DATE = \"character\"))"
   ]
  },
  {
   "cell_type": "code",
   "execution_count": 19,
   "metadata": {},
   "outputs": [],
   "source": [
    "# Load the Crop Data into the CROP_DATA table\n",
    "sqlSave(db_connection, crop_data_df, \"CROP_DATA\", append = TRUE, fast = FALSE, rownames = FALSE, colnames = FALSE, verbose = FALSE)"
   ]
  },
  {
   "cell_type": "code",
   "execution_count": 20,
   "metadata": {},
   "outputs": [],
   "source": [
    "# Load the Farm Prices \n",
    "sqlSave(db_connection, farm_prices_df, \"FARM_PRICES\", append=TRUE, fast=FALSE, rownames=FALSE, colnames=FALSE, verbose=FALSE) "
   ]
  },
  {
   "cell_type": "code",
   "execution_count": 21,
   "metadata": {},
   "outputs": [],
   "source": [
    "# Load the Daily FX Data \n",
    "sqlSave(db_connection, daily_fx_df, \"DAILY_FX\", append=TRUE, fast=FALSE, rownames=FALSE, colnames=FALSE, verbose=FALSE) "
   ]
  },
  {
   "cell_type": "code",
   "execution_count": 22,
   "metadata": {},
   "outputs": [],
   "source": [
    "# Load the Monthly FX Data\n",
    "sqlSave(db_connection, monthly_fx_df, \"MONTHLY_FX\", append=TRUE, fast=FALSE, rownames=FALSE, colnames=FALSE, verbose=FALSE)"
   ]
  },
  {
   "cell_type": "markdown",
   "metadata": {
    "tags": []
   },
   "source": [
    "## Now execute SQL queries using the RODBC R package to solve the assignment problems.\n",
    "\n",
    "## Problem 3\n",
    "#### How many records are in the farm prices dataset?\n"
   ]
  },
  {
   "cell_type": "markdown",
   "metadata": {},
   "source": [
    "### Solution 3\n"
   ]
  },
  {
   "cell_type": "code",
   "execution_count": 23,
   "metadata": {},
   "outputs": [
    {
     "data": {
      "text/html": [
       "<table>\n",
       "<caption>A data.frame: 1 × 1</caption>\n",
       "<thead>\n",
       "\t<tr><th></th><th scope=col>1</th></tr>\n",
       "\t<tr><th></th><th scope=col>&lt;int&gt;</th></tr>\n",
       "</thead>\n",
       "<tbody>\n",
       "\t<tr><th scope=row>1</th><td>2678</td></tr>\n",
       "</tbody>\n",
       "</table>\n"
      ],
      "text/latex": [
       "A data.frame: 1 × 1\n",
       "\\begin{tabular}{r|l}\n",
       "  & 1\\\\\n",
       "  & <int>\\\\\n",
       "\\hline\n",
       "\t1 & 2678\\\\\n",
       "\\end{tabular}\n"
      ],
      "text/markdown": [
       "\n",
       "A data.frame: 1 × 1\n",
       "\n",
       "| <!--/--> | 1 &lt;int&gt; |\n",
       "|---|---|\n",
       "| 1 | 2678 |\n",
       "\n"
      ],
      "text/plain": [
       "  1   \n",
       "1 2678"
      ]
     },
     "metadata": {},
     "output_type": "display_data"
    }
   ],
   "source": [
    "query = \"SELECT COUNT(CD_ID) FROM FARM_PRICES\";\n",
    "sqlQuery(db_connection,query)\n"
   ]
  },
  {
   "cell_type": "markdown",
   "metadata": {},
   "source": [
    "## Problem 4\n",
    "#### Which geographies are included in the farm prices dataset?\n"
   ]
  },
  {
   "cell_type": "markdown",
   "metadata": {},
   "source": [
    "### Solution 4\n"
   ]
  },
  {
   "cell_type": "code",
   "execution_count": 26,
   "metadata": {},
   "outputs": [
    {
     "data": {
      "text/html": [
       "<table>\n",
       "<caption>A data.frame: 2 × 1</caption>\n",
       "<thead>\n",
       "\t<tr><th></th><th scope=col>GEO</th></tr>\n",
       "\t<tr><th></th><th scope=col>&lt;fct&gt;</th></tr>\n",
       "</thead>\n",
       "<tbody>\n",
       "\t<tr><th scope=row>1</th><td>Alberta     </td></tr>\n",
       "\t<tr><th scope=row>2</th><td>Saskatchewan</td></tr>\n",
       "</tbody>\n",
       "</table>\n"
      ],
      "text/latex": [
       "A data.frame: 2 × 1\n",
       "\\begin{tabular}{r|l}\n",
       "  & GEO\\\\\n",
       "  & <fct>\\\\\n",
       "\\hline\n",
       "\t1 & Alberta     \\\\\n",
       "\t2 & Saskatchewan\\\\\n",
       "\\end{tabular}\n"
      ],
      "text/markdown": [
       "\n",
       "A data.frame: 2 × 1\n",
       "\n",
       "| <!--/--> | GEO &lt;fct&gt; |\n",
       "|---|---|\n",
       "| 1 | Alberta      |\n",
       "| 2 | Saskatchewan |\n",
       "\n"
      ],
      "text/plain": [
       "  GEO         \n",
       "1 Alberta     \n",
       "2 Saskatchewan"
      ]
     },
     "metadata": {},
     "output_type": "display_data"
    }
   ],
   "source": [
    "geographies <- \"SELECT DISTINCT (GEO) FROM FARM_PRICES\"\n",
    "sqlQuery(db_connection,geographies)\n",
    "\n"
   ]
  },
  {
   "cell_type": "markdown",
   "metadata": {},
   "source": [
    "## Problem 5\n",
    "#### How many hectares of Rye were harvested in Canada in 1968?\n"
   ]
  },
  {
   "cell_type": "markdown",
   "metadata": {},
   "source": [
    "### Solution 5\n"
   ]
  },
  {
   "cell_type": "code",
   "execution_count": 59,
   "metadata": {},
   "outputs": [
    {
     "data": {
      "text/html": [
       "<table>\n",
       "<caption>A data.frame: 3 × 1</caption>\n",
       "<thead>\n",
       "\t<tr><th></th><th scope=col>HARVESTED_AREA</th></tr>\n",
       "\t<tr><th></th><th scope=col>&lt;int&gt;</th></tr>\n",
       "</thead>\n",
       "<tbody>\n",
       "\t<tr><th scope=row>1</th><td> 46000</td></tr>\n",
       "\t<tr><th scope=row>2</th><td>274100</td></tr>\n",
       "\t<tr><th scope=row>3</th><td>156000</td></tr>\n",
       "</tbody>\n",
       "</table>\n"
      ],
      "text/latex": [
       "A data.frame: 3 × 1\n",
       "\\begin{tabular}{r|l}\n",
       "  & HARVESTED\\_AREA\\\\\n",
       "  & <int>\\\\\n",
       "\\hline\n",
       "\t1 &  46000\\\\\n",
       "\t2 & 274100\\\\\n",
       "\t3 & 156000\\\\\n",
       "\\end{tabular}\n"
      ],
      "text/markdown": [
       "\n",
       "A data.frame: 3 × 1\n",
       "\n",
       "| <!--/--> | HARVESTED_AREA &lt;int&gt; |\n",
       "|---|---|\n",
       "| 1 |  46000 |\n",
       "| 2 | 274100 |\n",
       "| 3 | 156000 |\n",
       "\n"
      ],
      "text/plain": [
       "  HARVESTED_AREA\n",
       "1  46000        \n",
       "2 274100        \n",
       "3 156000        "
      ]
     },
     "metadata": {},
     "output_type": "display_data"
    }
   ],
   "source": [
    "rye <- \"SELECT HARVESTED_AREA\n",
    "        FROM CROP_DATA\n",
    "        WHERE YEAR(YEAR) = 1968 AND\n",
    "               CROP_TYPE = 'Rye' ;\"\n",
    "\n",
    "\n",
    "        \n",
    "       \n",
    "               \n",
    "view <- sqlQuery(db_connection, rye)\n",
    "view"
   ]
  },
  {
   "cell_type": "code",
   "execution_count": 40,
   "metadata": {},
   "outputs": [],
   "source": [
    "## Problem 6\n",
    "#### Query and display the first 6 rows of the farm prices table for Rye.\n"
   ]
  },
  {
   "cell_type": "markdown",
   "metadata": {},
   "source": [
    "### Solution 6\n"
   ]
  },
  {
   "cell_type": "code",
   "execution_count": 63,
   "metadata": {},
   "outputs": [
    {
     "data": {
      "text/html": [
       "<table>\n",
       "<caption>A data.frame: 6 × 5</caption>\n",
       "<thead>\n",
       "\t<tr><th></th><th scope=col>CD_ID</th><th scope=col>DATE</th><th scope=col>CROP_TYPE</th><th scope=col>GEO</th><th scope=col>PRICE_PERMIT</th></tr>\n",
       "\t<tr><th></th><th scope=col>&lt;int&gt;</th><th scope=col>&lt;date&gt;</th><th scope=col>&lt;fct&gt;</th><th scope=col>&lt;fct&gt;</th><th scope=col>&lt;int&gt;</th></tr>\n",
       "</thead>\n",
       "<tbody>\n",
       "\t<tr><th scope=row>1</th><td> 4</td><td>1985-01-01</td><td>Rye</td><td>Alberta     </td><td>100</td></tr>\n",
       "\t<tr><th scope=row>2</th><td> 5</td><td>1985-01-01</td><td>Rye</td><td>Saskatchewan</td><td>109</td></tr>\n",
       "\t<tr><th scope=row>3</th><td>10</td><td>1985-02-01</td><td>Rye</td><td>Alberta     </td><td> 95</td></tr>\n",
       "\t<tr><th scope=row>4</th><td>11</td><td>1985-02-01</td><td>Rye</td><td>Saskatchewan</td><td>103</td></tr>\n",
       "\t<tr><th scope=row>5</th><td>16</td><td>1985-03-01</td><td>Rye</td><td>Alberta     </td><td> 96</td></tr>\n",
       "\t<tr><th scope=row>6</th><td>17</td><td>1985-03-01</td><td>Rye</td><td>Saskatchewan</td><td>106</td></tr>\n",
       "</tbody>\n",
       "</table>\n"
      ],
      "text/latex": [
       "A data.frame: 6 × 5\n",
       "\\begin{tabular}{r|lllll}\n",
       "  & CD\\_ID & DATE & CROP\\_TYPE & GEO & PRICE\\_PERMIT\\\\\n",
       "  & <int> & <date> & <fct> & <fct> & <int>\\\\\n",
       "\\hline\n",
       "\t1 &  4 & 1985-01-01 & Rye & Alberta      & 100\\\\\n",
       "\t2 &  5 & 1985-01-01 & Rye & Saskatchewan & 109\\\\\n",
       "\t3 & 10 & 1985-02-01 & Rye & Alberta      &  95\\\\\n",
       "\t4 & 11 & 1985-02-01 & Rye & Saskatchewan & 103\\\\\n",
       "\t5 & 16 & 1985-03-01 & Rye & Alberta      &  96\\\\\n",
       "\t6 & 17 & 1985-03-01 & Rye & Saskatchewan & 106\\\\\n",
       "\\end{tabular}\n"
      ],
      "text/markdown": [
       "\n",
       "A data.frame: 6 × 5\n",
       "\n",
       "| <!--/--> | CD_ID &lt;int&gt; | DATE &lt;date&gt; | CROP_TYPE &lt;fct&gt; | GEO &lt;fct&gt; | PRICE_PERMIT &lt;int&gt; |\n",
       "|---|---|---|---|---|---|\n",
       "| 1 |  4 | 1985-01-01 | Rye | Alberta      | 100 |\n",
       "| 2 |  5 | 1985-01-01 | Rye | Saskatchewan | 109 |\n",
       "| 3 | 10 | 1985-02-01 | Rye | Alberta      |  95 |\n",
       "| 4 | 11 | 1985-02-01 | Rye | Saskatchewan | 103 |\n",
       "| 5 | 16 | 1985-03-01 | Rye | Alberta      |  96 |\n",
       "| 6 | 17 | 1985-03-01 | Rye | Saskatchewan | 106 |\n",
       "\n"
      ],
      "text/plain": [
       "  CD_ID DATE       CROP_TYPE GEO          PRICE_PERMIT\n",
       "1  4    1985-01-01 Rye       Alberta      100         \n",
       "2  5    1985-01-01 Rye       Saskatchewan 109         \n",
       "3 10    1985-02-01 Rye       Alberta       95         \n",
       "4 11    1985-02-01 Rye       Saskatchewan 103         \n",
       "5 16    1985-03-01 Rye       Alberta       96         \n",
       "6 17    1985-03-01 Rye       Saskatchewan 106         "
      ]
     },
     "metadata": {},
     "output_type": "display_data"
    }
   ],
   "source": [
    "query <- \"SELECT * FROM FARM_PRICES WHERE CROP_TYPE='Rye' LIMIT 6;\"\n",
    "    view <- sqlQuery(db_connection,query)\n",
    "    view"
   ]
  },
  {
   "cell_type": "markdown",
   "metadata": {},
   "source": [
    "## Problem 7\n",
    "#### Which provinces grew Barley? \n"
   ]
  },
  {
   "cell_type": "markdown",
   "metadata": {},
   "source": [
    "### Solution 7\n"
   ]
  },
  {
   "cell_type": "code",
   "execution_count": 65,
   "metadata": {},
   "outputs": [
    {
     "data": {
      "text/html": [
       "<table>\n",
       "<caption>A data.frame: 3 × 1</caption>\n",
       "<thead>\n",
       "\t<tr><th></th><th scope=col>GEO</th></tr>\n",
       "\t<tr><th></th><th scope=col>&lt;fct&gt;</th></tr>\n",
       "</thead>\n",
       "<tbody>\n",
       "\t<tr><th scope=row>1</th><td>Alberta     </td></tr>\n",
       "\t<tr><th scope=row>2</th><td>Canada      </td></tr>\n",
       "\t<tr><th scope=row>3</th><td>Saskatchewan</td></tr>\n",
       "</tbody>\n",
       "</table>\n"
      ],
      "text/latex": [
       "A data.frame: 3 × 1\n",
       "\\begin{tabular}{r|l}\n",
       "  & GEO\\\\\n",
       "  & <fct>\\\\\n",
       "\\hline\n",
       "\t1 & Alberta     \\\\\n",
       "\t2 & Canada      \\\\\n",
       "\t3 & Saskatchewan\\\\\n",
       "\\end{tabular}\n"
      ],
      "text/markdown": [
       "\n",
       "A data.frame: 3 × 1\n",
       "\n",
       "| <!--/--> | GEO &lt;fct&gt; |\n",
       "|---|---|\n",
       "| 1 | Alberta      |\n",
       "| 2 | Canada       |\n",
       "| 3 | Saskatchewan |\n",
       "\n"
      ],
      "text/plain": [
       "  GEO         \n",
       "1 Alberta     \n",
       "2 Canada      \n",
       "3 Saskatchewan"
      ]
     },
     "metadata": {},
     "output_type": "display_data"
    }
   ],
   "source": [
    "barley_provinces <-  \"SELECT DISTINCT(GEO) FROM CROP_DATA WHERE CROP_TYPE='Barley' ;\"\n",
    "sqlQuery(db_connection,barley_provinces)"
   ]
  },
  {
   "cell_type": "markdown",
   "metadata": {},
   "source": [
    "## Problem 8\n",
    "#### Find the first and last dates for the farm prices data.\n"
   ]
  },
  {
   "cell_type": "markdown",
   "metadata": {},
   "source": [
    "### Solution 8\n"
   ]
  },
  {
   "cell_type": "code",
   "execution_count": 36,
   "metadata": {},
   "outputs": [
    {
     "data": {
      "text/html": [
       "<table>\n",
       "<caption>A data.frame: 1 × 2</caption>\n",
       "<thead>\n",
       "\t<tr><th></th><th scope=col>FIRST_DATE</th><th scope=col>LAST_DATE</th></tr>\n",
       "\t<tr><th></th><th scope=col>&lt;date&gt;</th><th scope=col>&lt;date&gt;</th></tr>\n",
       "</thead>\n",
       "<tbody>\n",
       "\t<tr><th scope=row>1</th><td>1985-01-01</td><td>2020-12-01</td></tr>\n",
       "</tbody>\n",
       "</table>\n"
      ],
      "text/latex": [
       "A data.frame: 1 × 2\n",
       "\\begin{tabular}{r|ll}\n",
       "  & FIRST\\_DATE & LAST\\_DATE\\\\\n",
       "  & <date> & <date>\\\\\n",
       "\\hline\n",
       "\t1 & 1985-01-01 & 2020-12-01\\\\\n",
       "\\end{tabular}\n"
      ],
      "text/markdown": [
       "\n",
       "A data.frame: 1 × 2\n",
       "\n",
       "| <!--/--> | FIRST_DATE &lt;date&gt; | LAST_DATE &lt;date&gt; |\n",
       "|---|---|---|\n",
       "| 1 | 1985-01-01 | 2020-12-01 |\n",
       "\n"
      ],
      "text/plain": [
       "  FIRST_DATE LAST_DATE \n",
       "1 1985-01-01 2020-12-01"
      ]
     },
     "metadata": {},
     "output_type": "display_data"
    }
   ],
   "source": [
    "FARMPRICES <-\n",
    "    \"SELECT min(DATE) FIRST_DATE, max(DATE) LAST_DATE\n",
    "    FROM FARM_PRICES;\n",
    "    \"\n",
    "    view <- sqlQuery(db_connection,FARMPRICES)\n",
    "    view"
   ]
  },
  {
   "cell_type": "markdown",
   "metadata": {},
   "source": [
    "## Problem 9\n",
    "#### Which crops have ever reached a farm price greater than or equal to &#0036;350 per metric tonne?\n"
   ]
  },
  {
   "cell_type": "markdown",
   "metadata": {},
   "source": [
    "### Solution 9\n"
   ]
  },
  {
   "cell_type": "code",
   "execution_count": 39,
   "metadata": {},
   "outputs": [
    {
     "data": {
      "text/html": [
       "<table>\n",
       "<caption>A data.frame: 1 × 1</caption>\n",
       "<thead>\n",
       "\t<tr><th></th><th scope=col>CROP_TYPE</th></tr>\n",
       "\t<tr><th></th><th scope=col>&lt;fct&gt;</th></tr>\n",
       "</thead>\n",
       "<tbody>\n",
       "\t<tr><th scope=row>1</th><td>Canola</td></tr>\n",
       "</tbody>\n",
       "</table>\n"
      ],
      "text/latex": [
       "A data.frame: 1 × 1\n",
       "\\begin{tabular}{r|l}\n",
       "  & CROP\\_TYPE\\\\\n",
       "  & <fct>\\\\\n",
       "\\hline\n",
       "\t1 & Canola\\\\\n",
       "\\end{tabular}\n"
      ],
      "text/markdown": [
       "\n",
       "A data.frame: 1 × 1\n",
       "\n",
       "| <!--/--> | CROP_TYPE &lt;fct&gt; |\n",
       "|---|---|\n",
       "| 1 | Canola |\n",
       "\n"
      ],
      "text/plain": [
       "  CROP_TYPE\n",
       "1 Canola   "
      ]
     },
     "metadata": {},
     "output_type": "display_data"
    }
   ],
   "source": [
    "metrictonne <- \n",
    "    \"SELECT DISTINCT(CROP_TYPE) \n",
    "    FROM FARM_PRICES \n",
    "    WHERE PRICE_PERMIT > 350 ;\"\n",
    "    view <- sqlQuery(db_connection,metrictonne)\n",
    "    view"
   ]
  },
  {
   "cell_type": "markdown",
   "metadata": {},
   "source": [
    "## Problem 10\n",
    "#### Rank the crop types harvested in Saskatchewan in the year 2000 by their average yield. Which crop performed best? \n"
   ]
  },
  {
   "cell_type": "markdown",
   "metadata": {},
   "source": [
    "### Solution 10\n"
   ]
  },
  {
   "cell_type": "code",
   "execution_count": 70,
   "metadata": {},
   "outputs": [
    {
     "data": {
      "text/html": [
       "<table>\n",
       "<caption>A data.frame: 4 × 4</caption>\n",
       "<thead>\n",
       "\t<tr><th></th><th scope=col>CROP_TYPE</th><th scope=col>2</th><th scope=col>GEO</th><th scope=col>AVG_YIELD</th></tr>\n",
       "\t<tr><th></th><th scope=col>&lt;fct&gt;</th><th scope=col>&lt;int&gt;</th><th scope=col>&lt;fct&gt;</th><th scope=col>&lt;int&gt;</th></tr>\n",
       "</thead>\n",
       "<tbody>\n",
       "\t<tr><th scope=row>1</th><td>Barley</td><td>2000</td><td>Saskatchewan</td><td>2800</td></tr>\n",
       "\t<tr><th scope=row>2</th><td>Wheat </td><td>2000</td><td>Saskatchewan</td><td>2200</td></tr>\n",
       "\t<tr><th scope=row>3</th><td>Rye   </td><td>2000</td><td>Saskatchewan</td><td>2100</td></tr>\n",
       "\t<tr><th scope=row>4</th><td>Canola</td><td>2000</td><td>Saskatchewan</td><td>1400</td></tr>\n",
       "</tbody>\n",
       "</table>\n"
      ],
      "text/latex": [
       "A data.frame: 4 × 4\n",
       "\\begin{tabular}{r|llll}\n",
       "  & CROP\\_TYPE & 2 & GEO & AVG\\_YIELD\\\\\n",
       "  & <fct> & <int> & <fct> & <int>\\\\\n",
       "\\hline\n",
       "\t1 & Barley & 2000 & Saskatchewan & 2800\\\\\n",
       "\t2 & Wheat  & 2000 & Saskatchewan & 2200\\\\\n",
       "\t3 & Rye    & 2000 & Saskatchewan & 2100\\\\\n",
       "\t4 & Canola & 2000 & Saskatchewan & 1400\\\\\n",
       "\\end{tabular}\n"
      ],
      "text/markdown": [
       "\n",
       "A data.frame: 4 × 4\n",
       "\n",
       "| <!--/--> | CROP_TYPE &lt;fct&gt; | 2 &lt;int&gt; | GEO &lt;fct&gt; | AVG_YIELD &lt;int&gt; |\n",
       "|---|---|---|---|---|\n",
       "| 1 | Barley | 2000 | Saskatchewan | 2800 |\n",
       "| 2 | Wheat  | 2000 | Saskatchewan | 2200 |\n",
       "| 3 | Rye    | 2000 | Saskatchewan | 2100 |\n",
       "| 4 | Canola | 2000 | Saskatchewan | 1400 |\n",
       "\n"
      ],
      "text/plain": [
       "  CROP_TYPE 2    GEO          AVG_YIELD\n",
       "1 Barley    2000 Saskatchewan 2800     \n",
       "2 Wheat     2000 Saskatchewan 2200     \n",
       "3 Rye       2000 Saskatchewan 2100     \n",
       "4 Canola    2000 Saskatchewan 1400     "
      ]
     },
     "metadata": {},
     "output_type": "display_data"
    }
   ],
   "source": [
    "bestcrop <- \"SELECT CROP_TYPE, YEAR(YEAR), GEO, AVG_YIELD \n",
    "                FROM CROP_DATA\n",
    "                WHERE YEAR(YEAR) = 2000 AND GEO = 'Saskatchewan'\n",
    "                ORDER BY AVG_YIELD DESC;\"\n",
    "                view <- sqlQuery(db_connection,bestcrop)\n",
    "                view"
   ]
  },
  {
   "cell_type": "markdown",
   "metadata": {},
   "source": [
    "## Problem 11\n",
    "#### Rank the crops and geographies by their average yield (KG per hectare) since the year 2000. Which crop and province had the highest average yield since the year 2000? \n"
   ]
  },
  {
   "cell_type": "markdown",
   "metadata": {},
   "source": [
    "### Solution 11\n"
   ]
  },
  {
   "cell_type": "code",
   "execution_count": 90,
   "metadata": {},
   "outputs": [
    {
     "data": {
      "text/html": [
       "<table>\n",
       "<caption>A data.frame: 15 × 4</caption>\n",
       "<thead>\n",
       "\t<tr><th></th><th scope=col>CROP_TYPE</th><th scope=col>GEO</th><th scope=col>AVG_YIELD</th><th scope=col>4</th></tr>\n",
       "\t<tr><th></th><th scope=col>&lt;fct&gt;</th><th scope=col>&lt;fct&gt;</th><th scope=col>&lt;int&gt;</th><th scope=col>&lt;int&gt;</th></tr>\n",
       "</thead>\n",
       "<tbody>\n",
       "\t<tr><th scope=row>1</th><td>Barley</td><td>Alberta     </td><td>4100</td><td>2013</td></tr>\n",
       "\t<tr><th scope=row>2</th><td>Barley</td><td>Alberta     </td><td>4100</td><td>2016</td></tr>\n",
       "\t<tr><th scope=row>3</th><td>Barley</td><td>Alberta     </td><td>3980</td><td>2020</td></tr>\n",
       "\t<tr><th scope=row>4</th><td>Wheat </td><td>Alberta     </td><td>3900</td><td>2013</td></tr>\n",
       "\t<tr><th scope=row>5</th><td>Wheat </td><td>Alberta     </td><td>3900</td><td>2016</td></tr>\n",
       "\t<tr><th scope=row>6</th><td>Barley</td><td>Canada      </td><td>3900</td><td>2016</td></tr>\n",
       "\t<tr><th scope=row>7</th><td>Barley</td><td>Alberta     </td><td>3900</td><td>2017</td></tr>\n",
       "\t<tr><th scope=row>8</th><td>Barley</td><td>Alberta     </td><td>3890</td><td>2019</td></tr>\n",
       "\t<tr><th scope=row>9</th><td>Barley</td><td>Canada      </td><td>3820</td><td>2020</td></tr>\n",
       "\t<tr><th scope=row>10</th><td>Barley</td><td>Canada      </td><td>3810</td><td>2019</td></tr>\n",
       "\t<tr><th scope=row>11</th><td>Barley</td><td>Canada      </td><td>3800</td><td>2013</td></tr>\n",
       "\t<tr><th scope=row>12</th><td>Barley</td><td>Saskatchewan</td><td>3800</td><td>2016</td></tr>\n",
       "\t<tr><th scope=row>13</th><td>Wheat </td><td>Alberta     </td><td>3750</td><td>2020</td></tr>\n",
       "\t<tr><th scope=row>14</th><td>Barley</td><td>Saskatchewan</td><td>3730</td><td>2019</td></tr>\n",
       "\t<tr><th scope=row>15</th><td>Barley</td><td>Alberta     </td><td>3700</td><td>2015</td></tr>\n",
       "</tbody>\n",
       "</table>\n"
      ],
      "text/latex": [
       "A data.frame: 15 × 4\n",
       "\\begin{tabular}{r|llll}\n",
       "  & CROP\\_TYPE & GEO & AVG\\_YIELD & 4\\\\\n",
       "  & <fct> & <fct> & <int> & <int>\\\\\n",
       "\\hline\n",
       "\t1 & Barley & Alberta      & 4100 & 2013\\\\\n",
       "\t2 & Barley & Alberta      & 4100 & 2016\\\\\n",
       "\t3 & Barley & Alberta      & 3980 & 2020\\\\\n",
       "\t4 & Wheat  & Alberta      & 3900 & 2013\\\\\n",
       "\t5 & Wheat  & Alberta      & 3900 & 2016\\\\\n",
       "\t6 & Barley & Canada       & 3900 & 2016\\\\\n",
       "\t7 & Barley & Alberta      & 3900 & 2017\\\\\n",
       "\t8 & Barley & Alberta      & 3890 & 2019\\\\\n",
       "\t9 & Barley & Canada       & 3820 & 2020\\\\\n",
       "\t10 & Barley & Canada       & 3810 & 2019\\\\\n",
       "\t11 & Barley & Canada       & 3800 & 2013\\\\\n",
       "\t12 & Barley & Saskatchewan & 3800 & 2016\\\\\n",
       "\t13 & Wheat  & Alberta      & 3750 & 2020\\\\\n",
       "\t14 & Barley & Saskatchewan & 3730 & 2019\\\\\n",
       "\t15 & Barley & Alberta      & 3700 & 2015\\\\\n",
       "\\end{tabular}\n"
      ],
      "text/markdown": [
       "\n",
       "A data.frame: 15 × 4\n",
       "\n",
       "| <!--/--> | CROP_TYPE &lt;fct&gt; | GEO &lt;fct&gt; | AVG_YIELD &lt;int&gt; | 4 &lt;int&gt; |\n",
       "|---|---|---|---|---|\n",
       "| 1 | Barley | Alberta      | 4100 | 2013 |\n",
       "| 2 | Barley | Alberta      | 4100 | 2016 |\n",
       "| 3 | Barley | Alberta      | 3980 | 2020 |\n",
       "| 4 | Wheat  | Alberta      | 3900 | 2013 |\n",
       "| 5 | Wheat  | Alberta      | 3900 | 2016 |\n",
       "| 6 | Barley | Canada       | 3900 | 2016 |\n",
       "| 7 | Barley | Alberta      | 3900 | 2017 |\n",
       "| 8 | Barley | Alberta      | 3890 | 2019 |\n",
       "| 9 | Barley | Canada       | 3820 | 2020 |\n",
       "| 10 | Barley | Canada       | 3810 | 2019 |\n",
       "| 11 | Barley | Canada       | 3800 | 2013 |\n",
       "| 12 | Barley | Saskatchewan | 3800 | 2016 |\n",
       "| 13 | Wheat  | Alberta      | 3750 | 2020 |\n",
       "| 14 | Barley | Saskatchewan | 3730 | 2019 |\n",
       "| 15 | Barley | Alberta      | 3700 | 2015 |\n",
       "\n"
      ],
      "text/plain": [
       "   CROP_TYPE GEO          AVG_YIELD 4   \n",
       "1  Barley    Alberta      4100      2013\n",
       "2  Barley    Alberta      4100      2016\n",
       "3  Barley    Alberta      3980      2020\n",
       "4  Wheat     Alberta      3900      2013\n",
       "5  Wheat     Alberta      3900      2016\n",
       "6  Barley    Canada       3900      2016\n",
       "7  Barley    Alberta      3900      2017\n",
       "8  Barley    Alberta      3890      2019\n",
       "9  Barley    Canada       3820      2020\n",
       "10 Barley    Canada       3810      2019\n",
       "11 Barley    Canada       3800      2013\n",
       "12 Barley    Saskatchewan 3800      2016\n",
       "13 Wheat     Alberta      3750      2020\n",
       "14 Barley    Saskatchewan 3730      2019\n",
       "15 Barley    Alberta      3700      2015"
      ]
     },
     "metadata": {},
     "output_type": "display_data"
    }
   ],
   "source": [
    "highest<- \"SELECT DISTINCT CROP_TYPE, GEO, AVG_YIELD, YEAR(YEAR)\n",
    "            FROM CROP_DATA\n",
    "            WHERE YEAR(YEAR) > 2000 \n",
    "            ORDER BY AVG_YIELD DESC\n",
    "            LIMIT 15;\"\n",
    "view <- sqlQuery(db_connection,highest)\n",
    "view"
   ]
  },
  {
   "cell_type": "markdown",
   "metadata": {
    "tags": []
   },
   "source": [
    "## Problem 12\n",
    "#### Use a subquery to determine how much wheat was harvested in Canada in the most recent year of the data.\n"
   ]
  },
  {
   "cell_type": "markdown",
   "metadata": {},
   "source": [
    "### Solution 12\n"
   ]
  },
  {
   "cell_type": "code",
   "execution_count": 101,
   "metadata": {},
   "outputs": [
    {
     "data": {
      "text/html": [
       "<table>\n",
       "<caption>A data.frame: 1 × 1</caption>\n",
       "<thead>\n",
       "\t<tr><th></th><th scope=col>TOTAL_WHEAT_HARVESTED</th></tr>\n",
       "\t<tr><th></th><th scope=col>&lt;int&gt;</th></tr>\n",
       "</thead>\n",
       "<tbody>\n",
       "\t<tr><th scope=row>1</th><td>10017800</td></tr>\n",
       "</tbody>\n",
       "</table>\n"
      ],
      "text/latex": [
       "A data.frame: 1 × 1\n",
       "\\begin{tabular}{r|l}\n",
       "  & TOTAL\\_WHEAT\\_HARVESTED\\\\\n",
       "  & <int>\\\\\n",
       "\\hline\n",
       "\t1 & 10017800\\\\\n",
       "\\end{tabular}\n"
      ],
      "text/markdown": [
       "\n",
       "A data.frame: 1 × 1\n",
       "\n",
       "| <!--/--> | TOTAL_WHEAT_HARVESTED &lt;int&gt; |\n",
       "|---|---|\n",
       "| 1 | 10017800 |\n",
       "\n"
      ],
      "text/plain": [
       "  TOTAL_WHEAT_HARVESTED\n",
       "1 10017800             "
      ]
     },
     "metadata": {},
     "output_type": "display_data"
    }
   ],
   "source": [
    "wheatcanada <- \"SELECT HARVESTED_AREA AS TOTAL_WHEAT_HARVESTED\n",
    "                FROM CROP_DATA\n",
    "                WHERE CROP_TYPE='Wheat' AND GEO ='Canada' \n",
    "                AND YEAR = (\n",
    "                   SELECT MAX(YEAR)\n",
    "                   FROM CROP_DATA\n",
    "                   WHERE CROP_TYPE = 'Wheat' AND GEO = 'Canada');\"\n",
    "\n",
    "view <-sqlQuery(db_connection,wheatcanada)\n",
    "view"
   ]
  },
  {
   "cell_type": "markdown",
   "metadata": {},
   "source": [
    "## Problem 13\n",
    "#### Use an implicit inner join to calculate the monthly price per metric tonne of Canola grown in Saskatchewan in both Canadian and US dollars. Display the most recent 6 months of the data.\n"
   ]
  },
  {
   "cell_type": "markdown",
   "metadata": {},
   "source": [
    "### Solution 13\n"
   ]
  },
  {
   "cell_type": "code",
   "execution_count": 102,
   "metadata": {},
   "outputs": [
    {
     "data": {
      "text/html": [
       "<table>\n",
       "<caption>A data.frame: 5 × 9</caption>\n",
       "<thead>\n",
       "\t<tr><th></th><th scope=col>CD_ID</th><th scope=col>YEAR</th><th scope=col>CROP_TYPE</th><th scope=col>GEO</th><th scope=col>SEEDED_AREA</th><th scope=col>HARVESTED_AREA</th><th scope=col>PRODUCTION</th><th scope=col>AVG_YIELD</th><th scope=col>FXUSDCAD</th></tr>\n",
       "\t<tr><th></th><th scope=col>&lt;int&gt;</th><th scope=col>&lt;date&gt;</th><th scope=col>&lt;fct&gt;</th><th scope=col>&lt;fct&gt;</th><th scope=col>&lt;int&gt;</th><th scope=col>&lt;int&gt;</th><th scope=col>&lt;int&gt;</th><th scope=col>&lt;int&gt;</th><th scope=col>&lt;int&gt;</th></tr>\n",
       "</thead>\n",
       "<tbody>\n",
       "\t<tr><th scope=row>1</th><td>624</td><td>2017-12-31</td><td>Barley</td><td>Alberta     </td><td>1153400</td><td>1011700</td><td> 3906000</td><td>3900</td><td>1</td></tr>\n",
       "\t<tr><th scope=row>2</th><td>625</td><td>2017-12-31</td><td>Barley</td><td>Canada      </td><td>2333500</td><td>2113500</td><td> 7891300</td><td>3700</td><td>1</td></tr>\n",
       "\t<tr><th scope=row>3</th><td>626</td><td>2017-12-31</td><td>Barley</td><td>Saskatchewan</td><td> 940900</td><td> 878200</td><td> 3135200</td><td>3600</td><td>1</td></tr>\n",
       "\t<tr><th scope=row>4</th><td>627</td><td>2017-12-31</td><td>Canola</td><td>Alberta     </td><td>2804500</td><td>2788300</td><td> 6826600</td><td>2400</td><td>1</td></tr>\n",
       "\t<tr><th scope=row>5</th><td>628</td><td>2017-12-31</td><td>Canola</td><td>Canada      </td><td>9313400</td><td>9273100</td><td>21458100</td><td>2300</td><td>1</td></tr>\n",
       "</tbody>\n",
       "</table>\n"
      ],
      "text/latex": [
       "A data.frame: 5 × 9\n",
       "\\begin{tabular}{r|lllllllll}\n",
       "  & CD\\_ID & YEAR & CROP\\_TYPE & GEO & SEEDED\\_AREA & HARVESTED\\_AREA & PRODUCTION & AVG\\_YIELD & FXUSDCAD\\\\\n",
       "  & <int> & <date> & <fct> & <fct> & <int> & <int> & <int> & <int> & <int>\\\\\n",
       "\\hline\n",
       "\t1 & 624 & 2017-12-31 & Barley & Alberta      & 1153400 & 1011700 &  3906000 & 3900 & 1\\\\\n",
       "\t2 & 625 & 2017-12-31 & Barley & Canada       & 2333500 & 2113500 &  7891300 & 3700 & 1\\\\\n",
       "\t3 & 626 & 2017-12-31 & Barley & Saskatchewan &  940900 &  878200 &  3135200 & 3600 & 1\\\\\n",
       "\t4 & 627 & 2017-12-31 & Canola & Alberta      & 2804500 & 2788300 &  6826600 & 2400 & 1\\\\\n",
       "\t5 & 628 & 2017-12-31 & Canola & Canada       & 9313400 & 9273100 & 21458100 & 2300 & 1\\\\\n",
       "\\end{tabular}\n"
      ],
      "text/markdown": [
       "\n",
       "A data.frame: 5 × 9\n",
       "\n",
       "| <!--/--> | CD_ID &lt;int&gt; | YEAR &lt;date&gt; | CROP_TYPE &lt;fct&gt; | GEO &lt;fct&gt; | SEEDED_AREA &lt;int&gt; | HARVESTED_AREA &lt;int&gt; | PRODUCTION &lt;int&gt; | AVG_YIELD &lt;int&gt; | FXUSDCAD &lt;int&gt; |\n",
       "|---|---|---|---|---|---|---|---|---|---|\n",
       "| 1 | 624 | 2017-12-31 | Barley | Alberta      | 1153400 | 1011700 |  3906000 | 3900 | 1 |\n",
       "| 2 | 625 | 2017-12-31 | Barley | Canada       | 2333500 | 2113500 |  7891300 | 3700 | 1 |\n",
       "| 3 | 626 | 2017-12-31 | Barley | Saskatchewan |  940900 |  878200 |  3135200 | 3600 | 1 |\n",
       "| 4 | 627 | 2017-12-31 | Canola | Alberta      | 2804500 | 2788300 |  6826600 | 2400 | 1 |\n",
       "| 5 | 628 | 2017-12-31 | Canola | Canada       | 9313400 | 9273100 | 21458100 | 2300 | 1 |\n",
       "\n"
      ],
      "text/plain": [
       "  CD_ID YEAR       CROP_TYPE GEO          SEEDED_AREA HARVESTED_AREA PRODUCTION\n",
       "1 624   2017-12-31 Barley    Alberta      1153400     1011700         3906000  \n",
       "2 625   2017-12-31 Barley    Canada       2333500     2113500         7891300  \n",
       "3 626   2017-12-31 Barley    Saskatchewan  940900      878200         3135200  \n",
       "4 627   2017-12-31 Canola    Alberta      2804500     2788300         6826600  \n",
       "5 628   2017-12-31 Canola    Canada       9313400     9273100        21458100  \n",
       "  AVG_YIELD FXUSDCAD\n",
       "1 3900      1       \n",
       "2 3700      1       \n",
       "3 3600      1       \n",
       "4 2400      1       \n",
       "5 2300      1       "
      ]
     },
     "metadata": {},
     "output_type": "display_data"
    }
   ],
   "source": [
    "query <- \"SELECT CD_ID, YEAR, CROP_TYPE, GEO, SEEDED_AREA, HARVESTED_AREA, PRODUCTION, AVG_YIELD, FXUSDCAD  \n",
    "    FROM CROP_DATA, FARM_PRICES \n",
    "    WHERE YEAR(CROP_DATA.YEAR)=YEAR(MONTHLY_FX.DATE) AND MONTH(CROP_DATA.YEAR)=MONTH(MONTHLY_FX.DATE)\n",
    "    LIMIT 6;\"\n",
    "    view <- sqlQuery(db_connection,query)\n",
    "    view"
   ]
  },
  {
   "cell_type": "markdown",
   "metadata": {},
   "source": [
    "## Author(s)\n",
    "\n",
    "<h4> Jeff Grossman </h4>\n",
    "\n",
    "## Contributor(s)\n",
    "\n",
    "<h4> Rav Ahuja </h4>\n",
    "\n",
    "## Change log\n",
    "\n",
    "| Date       | Version | Changed by    | Change Description                                                                                          |\n",
    "| ---------- | ------- | ------------- | ----------------------------------------------------------------------------------------------------------- |\n",
    "| 2021-04-01 | 0.7     | Jeff Grossman | Split Problem 1 solution cell into multiple cells, fixed minor bugs |\n",
    "| 2021-03-12 | 0.6     | Jeff Grossman | Cleaned up content for production |\n",
    "| 2021-03-11 | 0.5     | Jeff Grossman | Moved more advanced problems to optional honours module |\n",
    "| 2021-03-10 | 0.4     | Jeff Grossman | Added introductory and intermediate level problems and removed some advanced problems |\n",
    "| 2021-03-04 | 0.3     | Jeff Grossman | Moved some problems to a new practice lab as prep for this assignment\n",
    "| 2021-03-04 | 0.2     | Jeff Grossman | Sorted problems roughly by level of difficulty and relegated more advanced ones to ungraded bonus problems  |\n",
    "| 2021-02-20 | 0.1     | Jeff Grossman | Started content creation                                                                                    |\n",
    "\n",
    "\n",
    "## <h3 align=\"center\"> © IBM Corporation 2021. All rights reserved. <h3/>\n"
   ]
  },
  {
   "cell_type": "code",
   "execution_count": null,
   "metadata": {},
   "outputs": [],
   "source": []
  }
 ],
 "metadata": {
  "kernelspec": {
   "display_name": "R",
   "language": "R",
   "name": "conda-env-r-r"
  },
  "language_info": {
   "codemirror_mode": "r",
   "file_extension": ".r",
   "mimetype": "text/x-r-source",
   "name": "R",
   "pygments_lexer": "r",
   "version": "3.5.1"
  }
 },
 "nbformat": 4,
 "nbformat_minor": 4
}
